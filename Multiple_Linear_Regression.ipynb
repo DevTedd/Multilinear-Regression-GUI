{
  "nbformat": 4,
  "nbformat_minor": 0,
  "metadata": {
    "colab": {
      "name": "Multiple Linear Regression ",
      "provenance": [],
      "authorship_tag": "ABX9TyPmpxrrFZcpqzMmRvbsTHos",
      "include_colab_link": true
    },
    "kernelspec": {
      "name": "python3",
      "display_name": "Python 3"
    },
    "language_info": {
      "name": "python"
    }
  },
  "cells": [
    {
      "cell_type": "markdown",
      "metadata": {
        "id": "view-in-github",
        "colab_type": "text"
      },
      "source": [
        "<a href=\"https://colab.research.google.com/github/DevTedd/Multilinear-Regression-GUI/blob/main/Multiple_Linear_Regression.ipynb\" target=\"_parent\"><img src=\"https://colab.research.google.com/assets/colab-badge.svg\" alt=\"Open In Colab\"/></a>"
      ]
    },
    {
      "cell_type": "markdown",
      "metadata": {
        "id": "0KhR3VkSdOmU"
      },
      "source": [
        "# Learning exercise to better understand MULTI Varibale linear regression "
      ]
    },
    {
      "cell_type": "code",
      "metadata": {
        "id": "barCS-nndHb-"
      },
      "source": [
        "import pandas as pd\n",
        "\n",
        "import matplotlib\n",
        "matplotlib.use('Agg')\n",
        "\n"
      ],
      "execution_count": 17,
      "outputs": []
    },
    {
      "cell_type": "code",
      "metadata": {
        "id": "j-ZR1YDrdmE9"
      },
      "source": [
        "Stock_Market = {'Year': [2017,2017,2017,2017,2017,2017,2017,2017,2017,2017,2017,2017,2016,2016,2016,2016,2016,2016,2016,2016,2016,2016,2016,2016],\n",
        "                'Month': [12, 11,10,9,8,7,6,5,4,3,2,1,12,11,10,9,8,7,6,5,4,3,2,1],\n",
        "                'Interest_Rate': [2.75,2.5,2.5,2.5,2.5,2.5,2.5,2.25,2.25,2.25,2,2,2,1.75,1.75,1.75,1.75,1.75,1.75,1.75,1.75,1.75,1.75,1.75],\n",
        "                'Unemployment_Rate': [5.3,5.3,5.3,5.3,5.4,5.6,5.5,5.5,5.5,5.6,5.7,5.9,6,5.9,5.8,6.1,6.2,6.1,6.1,6.1,5.9,6.2,6.2,6.1],\n",
        "                'Stock_Index_Price': [1464,1394,1357,1293,1256,1254,1234,1195,1159,1167,1130,1075,1047,965,943,958,971,949,884,866,876,822,704,719]        \n",
        "                }"
      ],
      "execution_count": 18,
      "outputs": []
    },
    {
      "cell_type": "code",
      "metadata": {
        "colab": {
          "base_uri": "https://localhost:8080/"
        },
        "id": "M6Mc0j4idkml",
        "outputId": "0f2f4245-17d5-474b-83e8-6f2f181c45e1"
      },
      "source": [
        "df = pd.DataFrame(Stock_Market,columns=['Year','Month','Interest_Rate','Unemployment_Rate','Stock_Index_Price']) \n",
        "\n",
        "print (df)"
      ],
      "execution_count": 19,
      "outputs": [
        {
          "output_type": "stream",
          "name": "stdout",
          "text": [
            "    Year  Month  Interest_Rate  Unemployment_Rate  Stock_Index_Price\n",
            "0   2017     12           2.75                5.3               1464\n",
            "1   2017     11           2.50                5.3               1394\n",
            "2   2017     10           2.50                5.3               1357\n",
            "3   2017      9           2.50                5.3               1293\n",
            "4   2017      8           2.50                5.4               1256\n",
            "5   2017      7           2.50                5.6               1254\n",
            "6   2017      6           2.50                5.5               1234\n",
            "7   2017      5           2.25                5.5               1195\n",
            "8   2017      4           2.25                5.5               1159\n",
            "9   2017      3           2.25                5.6               1167\n",
            "10  2017      2           2.00                5.7               1130\n",
            "11  2017      1           2.00                5.9               1075\n",
            "12  2016     12           2.00                6.0               1047\n",
            "13  2016     11           1.75                5.9                965\n",
            "14  2016     10           1.75                5.8                943\n",
            "15  2016      9           1.75                6.1                958\n",
            "16  2016      8           1.75                6.2                971\n",
            "17  2016      7           1.75                6.1                949\n",
            "18  2016      6           1.75                6.1                884\n",
            "19  2016      5           1.75                6.1                866\n",
            "20  2016      4           1.75                5.9                876\n",
            "21  2016      3           1.75                6.2                822\n",
            "22  2016      2           1.75                6.2                704\n",
            "23  2016      1           1.75                6.1                719\n"
          ]
        }
      ]
    },
    {
      "cell_type": "code",
      "metadata": {
        "colab": {
          "base_uri": "https://localhost:8080/",
          "height": 300
        },
        "id": "wb_UBCzvdrSN",
        "outputId": "93cafe05-d468-4105-cf23-4a9ffbcc7012"
      },
      "source": [
        "import matplotlib.pyplot as plt\n",
        "\n",
        "plt.scatter(df['Interest_Rate'], df['Stock_Index_Price'], color='red')\n",
        "plt.title('Stock Index Price Vs Interest Rate', fontsize=14)\n",
        "plt.xlabel('Interest Rate', fontsize=14)\n",
        "plt.ylabel('Stock Index Price', fontsize=14)\n",
        "plt.grid(True)\n",
        "plt.show()"
      ],
      "execution_count": 20,
      "outputs": [
        {
          "output_type": "display_data",
          "data": {
            "image/png": "[encoded data removed]",
            "text/plain": [
              "<Figure size 432x288 with 1 Axes>"
            ]
          },
          "metadata": {
            "needs_background": "light"
          }
        }
      ]
    },
    {
      "cell_type": "code",
      "metadata": {
        "colab": {
          "base_uri": "https://localhost:8080/",
          "height": 300
        },
        "id": "xTohEQ0ydwGz",
        "outputId": "b959d85f-575b-45eb-eb3e-c279884c55f6"
      },
      "source": [
        "plt.scatter(df['Unemployment_Rate'], df['Stock_Index_Price'], color='green')\n",
        "plt.title('Stock Index Price Vs Unemployment Rate', fontsize=14)\n",
        "plt.xlabel('Unemployment Rate', fontsize=14)\n",
        "plt.ylabel('Stock Index Price', fontsize=14)\n",
        "plt.grid(True)\n",
        "plt.show()"
      ],
      "execution_count": 21,
      "outputs": [
        {
          "output_type": "display_data",
          "data": {
            "image/png": "[encoded data removed]",
            "text/plain": [
              "<Figure size 432x288 with 1 Axes>"
            ]
          },
          "metadata": {
            "needs_background": "light"
          }
        }
      ]
    },
    {
      "cell_type": "code",
      "metadata": {
        "id": "2dp4r7aLiKZ1"
      },
      "source": [
        "from sklearn import linear_model\n",
        "import statsmodels.api as sm\n",
        "\n",
        "X = df[['Interest_Rate','Unemployment_Rate']] # here we have 2 variables for multiple regression. If you just want to use one variable for simple linear regression, then use X = df['Interest_Rate'] for example.Alternatively, you may add additional variables within the brackets\n",
        "Y = df['Stock_Index_Price']\n"
      ],
      "execution_count": 22,
      "outputs": []
    },
    {
      "cell_type": "code",
      "metadata": {
        "colab": {
          "base_uri": "https://localhost:8080/"
        },
        "id": "xA1RoqiUiTn7",
        "outputId": "dd9b055b-1dd1-4af6-af99-7b207c01e5aa"
      },
      "source": [
        "# with sklearn\n",
        "regr = linear_model.LinearRegression()\n",
        "regr.fit(X, Y)\n",
        "\n",
        "print('Intercept: \\n', regr.intercept_)\n",
        "print('Coefficients: \\n', regr.coef_)"
      ],
      "execution_count": 23,
      "outputs": [
        {
          "output_type": "stream",
          "name": "stdout",
          "text": [
            "Intercept: \n",
            " 1798.4039776258546\n",
            "Coefficients: \n",
            " [ 345.54008701 -250.14657137]\n"
          ]
        }
      ]
    },
    {
      "cell_type": "code",
      "metadata": {
        "colab": {
          "base_uri": "https://localhost:8080/"
        },
        "id": "J39XU0eriWPy",
        "outputId": "4d7793de-c3bd-4d77-a27a-c72c2eb1960d"
      },
      "source": [
        "# prediction with sklearn\n",
        "New_Interest_Rate = 3.75\n",
        "New_Unemployment_Rate = 7.3\n",
        "print ('Predicted Stock Index Price: \\n', regr.predict([[New_Interest_Rate ,New_Unemployment_Rate]]))\n"
      ],
      "execution_count": 24,
      "outputs": [
        {
          "output_type": "stream",
          "name": "stdout",
          "text": [
            "Predicted Stock Index Price: \n",
            " [1268.10933292]\n"
          ]
        },
        {
          "output_type": "stream",
          "name": "stderr",
          "text": [
            "/usr/local/lib/python3.7/dist-packages/sklearn/base.py:446: UserWarning: X does not have valid feature names, but LinearRegression was fitted with feature names\n",
            "  \"X does not have valid feature names, but\"\n"
          ]
        }
      ]
    },
    {
      "cell_type": "markdown",
      "metadata": {
        "id": "Ip7c5KY7ixIW"
      },
      "source": [
        "The second part displays the predicted output using sklearn:\n",
        "Linear Regression\n",
        "\n",
        "Imagine that you want to predict the stock index price after you collected the following data:\n",
        "\n",
        "Interest Rate = 2.75 (i.e., X1= 2.75)\n",
        "Unemployment Rate = 5.3 (i.e., X2= 5.3)\n",
        "If you plug that data into the regression equation, you’ll get the same predicted result as displayed in the second part:\n",
        "\n",
        "Stock_Index_Price = (1798.4040) + (345.5401)*(2.75) + (-250.1466)*(5.3) = 1422.86"
      ]
    },
    {
      "cell_type": "code",
      "metadata": {
        "id": "EreytgpJiaZE"
      },
      "source": [
        "# with statsmodels\n",
        "X = sm.add_constant(X) # adding a constant"
      ],
      "execution_count": 25,
      "outputs": []
    },
    {
      "cell_type": "code",
      "metadata": {
        "colab": {
          "base_uri": "https://localhost:8080/"
        },
        "id": "DR4FEUcHigoR",
        "outputId": "5370a383-a754-4009-9b9e-de9c49dc5f96"
      },
      "source": [
        "model = sm.OLS(Y, X).fit()\n",
        "predictions = model.predict(X) \n",
        " \n",
        "print_model = model.summary()\n",
        "print(print_model)\n"
      ],
      "execution_count": 26,
      "outputs": [
        {
          "output_type": "stream",
          "name": "stdout",
          "text": [
            "                            OLS Regression Results                            \n",
            "==============================================================================\n",
            "Dep. Variable:      Stock_Index_Price   R-squared:                       0.898\n",
            "Model:                            OLS   Adj. R-squared:                  0.888\n",
            "Method:                 Least Squares   F-statistic:                     92.07\n",
            "Date:                Tue, 23 Nov 2021   Prob (F-statistic):           4.04e-11\n",
            "Time:                        06:50:26   Log-Likelihood:                -134.61\n",
            "No. Observations:                  24   AIC:                             275.2\n",
            "Df Residuals:                      21   BIC:                             278.8\n",
            "Df Model:                           2                                         \n",
            "Covariance Type:            nonrobust                                         \n",
            "=====================================================================================\n",
            "                        coef    std err          t      P>|t|      [0.025      0.975]\n",
            "-------------------------------------------------------------------------------------\n",
            "const              1798.4040    899.248      2.000      0.059     -71.685    3668.493\n",
            "Interest_Rate       345.5401    111.367      3.103      0.005     113.940     577.140\n",
            "Unemployment_Rate  -250.1466    117.950     -2.121      0.046    -495.437      -4.856\n",
            "==============================================================================\n",
            "Omnibus:                        2.691   Durbin-Watson:                   0.530\n",
            "Prob(Omnibus):                  0.260   Jarque-Bera (JB):                1.551\n",
            "Skew:                          -0.612   Prob(JB):                        0.461\n",
            "Kurtosis:                       3.226   Cond. No.                         394.\n",
            "==============================================================================\n",
            "\n",
            "Warnings:\n",
            "[1] Standard Errors assume that the covariance matrix of the errors is correctly specified.\n"
          ]
        }
      ]
    },
    {
      "cell_type": "code",
      "metadata": {
        "id": "gI8lePOdiigg"
      },
      "source": [
        ""
      ],
      "execution_count": 26,
      "outputs": []
    },
    {
      "cell_type": "markdown",
      "metadata": {
        "id": "02SirSTDjGR1"
      },
      "source": [
        "# Next Step is to create a GUI to help those without the technical expertise predict information\n"
      ]
    },
    {
      "cell_type": "code",
      "metadata": {
        "id": "IBB_vIJXjOwl"
      },
      "source": [
        "import pandas as pd\n",
        "from sklearn import linear_model\n",
        "import tkinter as tk \n",
        "import matplotlib.pyplot as plt\n",
        "from matplotlib.backends.backend_tkagg import FigureCanvasTkAgg"
      ],
      "execution_count": 27,
      "outputs": []
    },
    {
      "cell_type": "code",
      "metadata": {
        "colab": {
          "base_uri": "https://localhost:8080/",
          "height": 427
        },
        "id": "v1dwqGFNjSeI",
        "outputId": "6d1f4c1a-b30d-41f4-b9ba-c5efee2fbc77"
      },
      "source": [
        "X = df[['Interest_Rate','Unemployment_Rate']].astype(float) # here we have 2 input variables for multiple regression. If you just want to use one variable for simple linear regression, then use X = df['Interest_Rate'] for example.Alternatively, you may add additional variables within the brackets\n",
        "Y = df['Stock_Index_Price'].astype(float) # output variable (what we are trying to predict)\n",
        "\n",
        "# with sklearn\n",
        "regr = linear_model.LinearRegression()\n",
        "regr.fit(X, Y)\n",
        "\n",
        "print('Intercept: \\n', regr.intercept_)\n",
        "print('Coefficients: \\n', regr.coef_)\n",
        "\n",
        "# tkinter GUI\n",
        "root= tk.Tk()\n",
        "\n",
        "canvas1 = tk.Canvas(root, width = 500, height = 300)\n",
        "canvas1.pack()\n",
        "\n",
        "# with sklearn\n",
        "Intercept_result = ('Intercept: ', regr.intercept_)\n",
        "label_Intercept = tk.Label(root, text=Intercept_result, justify = 'center')\n",
        "canvas1.create_window(260, 220, window=label_Intercept)\n",
        "\n",
        "# with sklearn\n",
        "Coefficients_result  = ('Coefficients: ', regr.coef_)\n",
        "label_Coefficients = tk.Label(root, text=Coefficients_result, justify = 'center')\n",
        "canvas1.create_window(260, 240, window=label_Coefficients)\n",
        "\n",
        "# New_Interest_Rate label and input box\n",
        "label1 = tk.Label(root, text='Type Interest Rate: ')\n",
        "canvas1.create_window(100, 100, window=label1)\n",
        "\n",
        "entry1 = tk.Entry (root) # create 1st entry box\n",
        "canvas1.create_window(270, 100, window=entry1)\n",
        "\n",
        "# New_Unemployment_Rate label and input box\n",
        "label2 = tk.Label(root, text=' Type Unemployment Rate: ')\n",
        "canvas1.create_window(120, 120, window=label2)\n",
        "\n",
        "entry2 = tk.Entry (root) # create 2nd entry box\n",
        "canvas1.create_window(270, 120, window=entry2)\n",
        "\n",
        "def values(): \n",
        "    global New_Interest_Rate #our 1st input variable\n",
        "    New_Interest_Rate = float(entry1.get()) \n",
        "    \n",
        "    global New_Unemployment_Rate #our 2nd input variable\n",
        "    New_Unemployment_Rate = float(entry2.get()) \n",
        "    \n",
        "    Prediction_result  = ('Predicted Stock Index Price: ', regr.predict([[New_Interest_Rate ,New_Unemployment_Rate]]))\n",
        "    label_Prediction = tk.Label(root, text= Prediction_result, bg='orange')\n",
        "    canvas1.create_window(260, 280, window=label_Prediction)\n",
        "    \n",
        "button1 = tk.Button (root, text='Predict Stock Index Price',command=values, bg='orange') # button to call the 'values' command above \n",
        "canvas1.create_window(270, 150, window=button1)\n",
        " \n",
        "#plot 1st scatter \n",
        "figure3 = plt.Figure(figsize=(5,4), dpi=100)\n",
        "ax3 = figure3.add_subplot(111)\n",
        "ax3.scatter(df['Interest_Rate'].astype(float),df['Stock_Index_Price'].astype(float), color = 'r')\n",
        "scatter3 = FigureCanvasTkAgg(figure3, root) \n",
        "scatter3.get_tk_widget().pack(side=tk.RIGHT, fill=tk.BOTH)\n",
        "ax3.legend(['Stock_Index_Price']) \n",
        "ax3.set_xlabel('Interest Rate')\n",
        "ax3.set_title('Interest Rate Vs. Stock Index Price')\n",
        "\n",
        "#plot 2nd scatter \n",
        "figure4 = plt.Figure(figsize=(5,4), dpi=100)\n",
        "ax4 = figure4.add_subplot(111)\n",
        "ax4.scatter(df['Unemployment_Rate'].astype(float),df['Stock_Index_Price'].astype(float), color = 'g')\n",
        "scatter4 = FigureCanvasTkAgg(figure4, root) \n",
        "scatter4.get_tk_widget().pack(side=tk.RIGHT, fill=tk.BOTH)\n",
        "ax4.legend(['Stock_Index_Price']) \n",
        "ax4.set_xlabel('Unemployment_Rate')\n",
        "ax4.set_title('Unemployment_Rate Vs. Stock Index Price')\n",
        "\n",
        "root.mainloop()"
      ],
      "execution_count": 28,
      "outputs": [
        {
          "output_type": "stream",
          "name": "stdout",
          "text": [
            "Intercept: \n",
            " 1798.4039776258546\n",
            "Coefficients: \n",
            " [ 345.54008701 -250.14657137]\n"
          ]
        },
        {
          "output_type": "error",
          "ename": "TclError",
          "evalue": "ignored",
          "traceback": [
            "\u001b[0;31m---------------------------------------------------------------------------\u001b[0m",
            "\u001b[0;31mTclError\u001b[0m                                  Traceback (most recent call last)",
            "\u001b[0;32m<ipython-input-28-b0f0dc730e5c>\u001b[0m in \u001b[0;36m<module>\u001b[0;34m()\u001b[0m\n\u001b[1;32m     10\u001b[0m \u001b[0;34m\u001b[0m\u001b[0m\n\u001b[1;32m     11\u001b[0m \u001b[0;31m# tkinter GUI\u001b[0m\u001b[0;34m\u001b[0m\u001b[0;34m\u001b[0m\u001b[0;34m\u001b[0m\u001b[0m\n\u001b[0;32m---> 12\u001b[0;31m \u001b[0mroot\u001b[0m\u001b[0;34m=\u001b[0m \u001b[0mtk\u001b[0m\u001b[0;34m.\u001b[0m\u001b[0mTk\u001b[0m\u001b[0;34m(\u001b[0m\u001b[0;34m)\u001b[0m\u001b[0;34m\u001b[0m\u001b[0;34m\u001b[0m\u001b[0m\n\u001b[0m\u001b[1;32m     13\u001b[0m \u001b[0;34m\u001b[0m\u001b[0m\n\u001b[1;32m     14\u001b[0m \u001b[0mcanvas1\u001b[0m \u001b[0;34m=\u001b[0m \u001b[0mtk\u001b[0m\u001b[0;34m.\u001b[0m\u001b[0mCanvas\u001b[0m\u001b[0;34m(\u001b[0m\u001b[0mroot\u001b[0m\u001b[0;34m,\u001b[0m \u001b[0mwidth\u001b[0m \u001b[0;34m=\u001b[0m \u001b[0;36m500\u001b[0m\u001b[0;34m,\u001b[0m \u001b[0mheight\u001b[0m \u001b[0;34m=\u001b[0m \u001b[0;36m300\u001b[0m\u001b[0;34m)\u001b[0m\u001b[0;34m\u001b[0m\u001b[0;34m\u001b[0m\u001b[0m\n",
            "\u001b[0;32m/usr/lib/python3.7/tkinter/__init__.py\u001b[0m in \u001b[0;36m__init__\u001b[0;34m(self, screenName, baseName, className, useTk, sync, use)\u001b[0m\n\u001b[1;32m   2021\u001b[0m                 \u001b[0mbaseName\u001b[0m \u001b[0;34m=\u001b[0m \u001b[0mbaseName\u001b[0m \u001b[0;34m+\u001b[0m \u001b[0mext\u001b[0m\u001b[0;34m\u001b[0m\u001b[0;34m\u001b[0m\u001b[0m\n\u001b[1;32m   2022\u001b[0m         \u001b[0minteractive\u001b[0m \u001b[0;34m=\u001b[0m \u001b[0;36m0\u001b[0m\u001b[0;34m\u001b[0m\u001b[0;34m\u001b[0m\u001b[0m\n\u001b[0;32m-> 2023\u001b[0;31m         \u001b[0mself\u001b[0m\u001b[0;34m.\u001b[0m\u001b[0mtk\u001b[0m \u001b[0;34m=\u001b[0m \u001b[0m_tkinter\u001b[0m\u001b[0;34m.\u001b[0m\u001b[0mcreate\u001b[0m\u001b[0;34m(\u001b[0m\u001b[0mscreenName\u001b[0m\u001b[0;34m,\u001b[0m \u001b[0mbaseName\u001b[0m\u001b[0;34m,\u001b[0m \u001b[0mclassName\u001b[0m\u001b[0;34m,\u001b[0m \u001b[0minteractive\u001b[0m\u001b[0;34m,\u001b[0m \u001b[0mwantobjects\u001b[0m\u001b[0;34m,\u001b[0m \u001b[0museTk\u001b[0m\u001b[0;34m,\u001b[0m \u001b[0msync\u001b[0m\u001b[0;34m,\u001b[0m \u001b[0muse\u001b[0m\u001b[0;34m)\u001b[0m\u001b[0;34m\u001b[0m\u001b[0;34m\u001b[0m\u001b[0m\n\u001b[0m\u001b[1;32m   2024\u001b[0m         \u001b[0;32mif\u001b[0m \u001b[0museTk\u001b[0m\u001b[0;34m:\u001b[0m\u001b[0;34m\u001b[0m\u001b[0;34m\u001b[0m\u001b[0m\n\u001b[1;32m   2025\u001b[0m             \u001b[0mself\u001b[0m\u001b[0;34m.\u001b[0m\u001b[0m_loadtk\u001b[0m\u001b[0;34m(\u001b[0m\u001b[0;34m)\u001b[0m\u001b[0;34m\u001b[0m\u001b[0;34m\u001b[0m\u001b[0m\n",
            "\u001b[0;31mTclError\u001b[0m: no display name and no $DISPLAY environment variable"
          ]
        }
      ]
    },
    {
      "cell_type": "markdown",
      "metadata": {
        "id": "oujogdSVkant"
      },
      "source": [
        "Cant run a GUI on the colab notebook, below is a link to the actual py file. Run on a local host"
      ]
    },
    {
      "cell_type": "markdown",
      "metadata": {
        "id": "Sytdd7zVki3F"
      },
      "source": [
        ""
      ]
    },
    {
      "cell_type": "code",
      "metadata": {
        "id": "ect08OmnjU6c"
      },
      "source": [
        ""
      ],
      "execution_count": null,
      "outputs": []
    }
  ]
}